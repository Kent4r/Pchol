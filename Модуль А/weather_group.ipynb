{
 "cells": [
  {
   "cell_type": "markdown",
   "id": "2822d0bc",
   "metadata": {},
   "source": [
    "# Группировка данных о погоде"
   ]
  },
  {
   "cell_type": "markdown",
   "id": "3d10d4cc",
   "metadata": {},
   "source": [
    "### Импорт библиотеки"
   ]
  },
  {
   "cell_type": "code",
   "execution_count": 1,
   "id": "b42dee7c",
   "metadata": {},
   "outputs": [],
   "source": [
    "import pandas as pd"
   ]
  },
  {
   "cell_type": "markdown",
   "id": "eaf763c0",
   "metadata": {},
   "source": [
    "### Загрузка данных"
   ]
  },
  {
   "cell_type": "code",
   "execution_count": null,
   "id": "69c6216f",
   "metadata": {},
   "outputs": [],
   "source": [
    "df = pd.read_csv(\"weather.csv\")"
   ]
  },
  {
   "cell_type": "markdown",
   "id": "577b7abe",
   "metadata": {},
   "source": [
    "### Обработка даты"
   ]
  },
  {
   "cell_type": "code",
   "execution_count": null,
   "id": "fa4ae6e2",
   "metadata": {},
   "outputs": [],
   "source": [
    "df['Дата'] = pd.to_datetime(df['Дата'], errors='coerce', dayfirst=True)\n",
    "df = df.dropna(subset=['Дата'])\n",
    "if df.empty:\n",
    "    raise ValueError(\"Нет данных после обработки дат\")"
   ]
  },
  {
   "cell_type": "markdown",
   "id": "a3e0610a",
   "metadata": {},
   "source": [
    "### Создание группировки по месяцам"
   ]
  },
  {
   "cell_type": "code",
   "execution_count": null,
   "id": "a373a283",
   "metadata": {},
   "outputs": [],
   "source": [
    "df['Год-Месяц'] = df['Дата'].dt.to_period('M')"
   ]
  },
  {
   "cell_type": "markdown",
   "id": "040f4c1e",
   "metadata": {},
   "source": [
    "### Агрегация данных"
   ]
  },
  {
   "cell_type": "code",
   "execution_count": null,
   "id": "24a6e1c0",
   "metadata": {},
   "outputs": [],
   "source": [
    "grouped = df.groupby('Год-Месяц').agg({\n",
    "    'Tmax': 'max',\n",
    "    'Tmin': 'min',\n",
    "    'Tavg': 'mean',\n",
    "    'Осадки мм': 'sum',\n",
    "    'Атмосферное давление гПа': 'mean',\n",
    "    'Скорость ветра м/с': 'mean',\n",
    "    'Эффективная температура': 'mean'\n",
    "}).reset_index()"
   ]
  },
  {
   "cell_type": "markdown",
   "id": "7eb250a1",
   "metadata": {},
   "source": [
    "### Преобразование периода в строку"
   ]
  },
  {
   "cell_type": "code",
   "execution_count": null,
   "id": "b9a24c73",
   "metadata": {},
   "outputs": [],
   "source": [
    "grouped['Год-Месяц'] = grouped['Год-Месяц'].astype(str)"
   ]
  },
  {
   "cell_type": "markdown",
   "id": "332bf1a2",
   "metadata": {},
   "source": [
    "### Сохранение и вывод"
   ]
  },
  {
   "cell_type": "code",
   "execution_count": null,
   "id": "ded3ed61",
   "metadata": {},
   "outputs": [
    {
     "name": "stdout",
     "output_type": "stream",
     "text": [
      "Данные успешно обработаны. Результат сохранен в weather_grouped.csv\n",
      "Обработано 109 месяцев данных\n"
     ]
    }
   ],
   "source": [
    "grouped.to_csv(\"weather_grouped.csv\", index=False)\n",
    "print(f\"Данные успешно обработаны. Результат сохранен в {\"weather_grouped.csv\"}\")\n",
    "print(f\"Обработано {len(grouped)} месяцев данных\")"
   ]
  }
 ],
 "metadata": {
  "kernelspec": {
   "display_name": "Python 3",
   "language": "python",
   "name": "python3"
  },
  "language_info": {
   "codemirror_mode": {
    "name": "ipython",
    "version": 3
   },
   "file_extension": ".py",
   "mimetype": "text/x-python",
   "name": "python",
   "nbconvert_exporter": "python",
   "pygments_lexer": "ipython3",
   "version": "3.12.1"
  }
 },
 "nbformat": 4,
 "nbformat_minor": 5
}
