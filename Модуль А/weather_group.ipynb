{
 "cells": [
  {
   "cell_type": "markdown",
   "id": "2822d0bc",
   "metadata": {},
   "source": [
    "# Группировка данных о погоде"
   ]
  },
  {
   "cell_type": "markdown",
   "id": "3d10d4cc",
   "metadata": {},
   "source": [
    "### Импорт библиотеки"
   ]
  },
  {
   "cell_type": "code",
   "execution_count": 23,
   "id": "b42dee7c",
   "metadata": {},
   "outputs": [],
   "source": [
    "import pandas as pd"
   ]
  },
  {
   "cell_type": "markdown",
   "id": "eaf763c0",
   "metadata": {},
   "source": [
    "### Загрузка данных"
   ]
  },
  {
   "cell_type": "code",
   "execution_count": 24,
   "id": "69c6216f",
   "metadata": {},
   "outputs": [],
   "source": [
    "df = pd.read_csv(\"Weather_new.csv\", index_col=False, sep=';')"
   ]
  },
  {
   "cell_type": "markdown",
   "id": "577b7abe",
   "metadata": {},
   "source": [
    "### Обработка даты"
   ]
  },
  {
   "cell_type": "code",
   "execution_count": 25,
   "id": "fa4ae6e2",
   "metadata": {},
   "outputs": [],
   "source": [
    "df['RRR'] = df['RRR'].replace(['Осадков нет','Следы осадков'], 0).astype(float)\n",
    "df['Дата'] = pd.to_datetime(df['Дата'], dayfirst=True)\n",
    "df = df.select_dtypes(exclude=['object'])\n",
    "df = df.drop(columns=['ff10', 'ff3', 'VV', 'Td', 'tR', 'Tg'])"
   ]
  },
  {
   "cell_type": "markdown",
   "id": "a3e0610a",
   "metadata": {},
   "source": [
    "### Создание группировки по месяцам"
   ]
  },
  {
   "cell_type": "code",
   "execution_count": 26,
   "id": "a373a283",
   "metadata": {},
   "outputs": [],
   "source": [
    "df['Год-Месяц-День'] = df['Дата'].dt.to_period('d')"
   ]
  },
  {
   "cell_type": "code",
   "execution_count": 27,
   "id": "cc95a724",
   "metadata": {},
   "outputs": [
    {
     "data": {
      "text/plain": [
       "Index(['Дата', 'T', 'Po', 'P', 'Pa', 'U', 'Ff', 'Tn', 'Tx', 'RRR',\n",
       "       'Год-Месяц-День'],\n",
       "      dtype='object')"
      ]
     },
     "execution_count": 27,
     "metadata": {},
     "output_type": "execute_result"
    }
   ],
   "source": [
    "df.columns"
   ]
  },
  {
   "cell_type": "markdown",
   "id": "040f4c1e",
   "metadata": {},
   "source": [
    "### Агрегация данных"
   ]
  },
  {
   "cell_type": "code",
   "execution_count": 28,
   "id": "24a6e1c0",
   "metadata": {},
   "outputs": [],
   "source": [
    "grouped = df.groupby('Год-Месяц-День').agg({\n",
    "    'Tx': 'max',\n",
    "    'Tn': 'min',\n",
    "    'T': 'mean',\n",
    "    'RRR': 'sum',\n",
    "    'U': 'mean',\n",
    "    'P': 'mean',\n",
    "    'Po': 'mean',\n",
    "    'Ff': 'mean'\n",
    "}).reset_index()"
   ]
  },
  {
   "cell_type": "markdown",
   "id": "7eb250a1",
   "metadata": {},
   "source": [
    "### Преобразование периода в строку"
   ]
  },
  {
   "cell_type": "code",
   "execution_count": 30,
   "id": "b9a24c73",
   "metadata": {},
   "outputs": [],
   "source": [
    "grouped['Год-Месяц-День'] = grouped['Год-Месяц-День'].astype(str)"
   ]
  },
  {
   "cell_type": "markdown",
   "id": "332bf1a2",
   "metadata": {},
   "source": [
    "### Сохранение и вывод"
   ]
  },
  {
   "cell_type": "code",
   "execution_count": 32,
   "id": "ded3ed61",
   "metadata": {},
   "outputs": [
    {
     "name": "stdout",
     "output_type": "stream",
     "text": [
      "Данные успешно обработаны. Результат сохранен в weather_grouped_daily_new.csv\n",
      "Обработано 3654 дней данных\n"
     ]
    }
   ],
   "source": [
    "grouped.to_csv(\"weather_grouped_daily_new.csv\", index=False)\n",
    "print(f\"Данные успешно обработаны. Результат сохранен в {\"weather_grouped_daily_new.csv\"}\")\n",
    "print(f\"Обработано {len(grouped)} дней данных\")"
   ]
  }
 ],
 "metadata": {
  "kernelspec": {
   "display_name": "Python 3",
   "language": "python",
   "name": "python3"
  },
  "language_info": {
   "codemirror_mode": {
    "name": "ipython",
    "version": 3
   },
   "file_extension": ".py",
   "mimetype": "text/x-python",
   "name": "python",
   "nbconvert_exporter": "python",
   "pygments_lexer": "ipython3",
   "version": "3.12.1"
  }
 },
 "nbformat": 4,
 "nbformat_minor": 5
}
