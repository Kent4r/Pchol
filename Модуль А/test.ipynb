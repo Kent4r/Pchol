{
 "cells": [
  {
   "cell_type": "code",
   "execution_count": null,
   "id": "61d92469",
   "metadata": {},
   "outputs": [],
   "source": [
    "import pandas as pd"
   ]
  },
  {
   "cell_type": "code",
   "execution_count": 100,
   "id": "9445f9e6",
   "metadata": {},
   "outputs": [],
   "source": [
    "df = pd.read_csv(\"Weather_new.csv\", index_col=False, sep=';')"
   ]
  },
  {
   "cell_type": "code",
   "execution_count": 102,
   "id": "378bcfae",
   "metadata": {},
   "outputs": [],
   "source": [
    "df['RRR'] = df['RRR'].replace(['Осадков нет','Следы осадков'], 0).astype(float)"
   ]
  },
  {
   "cell_type": "code",
   "execution_count": null,
   "id": "68c585e1",
   "metadata": {},
   "outputs": [],
   "source": [
    "df['Date'] = pd.to_datetime(df['Дата'], dayfirst=True)\n",
    "df = df.select_dtypes(exclude=['object'])"
   ]
  },
  {
   "cell_type": "code",
   "execution_count": 70,
   "id": "1ebdae2b",
   "metadata": {},
   "outputs": [],
   "source": [
    "df = df.drop(columns=['ff10', 'ff3', 'VV', 'Td', 'tR', 'Tg'])"
   ]
  }
 ],
 "metadata": {
  "kernelspec": {
   "display_name": "Python 3",
   "language": "python",
   "name": "python3"
  },
  "language_info": {
   "codemirror_mode": {
    "name": "ipython",
    "version": 3
   },
   "file_extension": ".py",
   "mimetype": "text/x-python",
   "name": "python",
   "nbconvert_exporter": "python",
   "pygments_lexer": "ipython3",
   "version": "3.12.1"
  }
 },
 "nbformat": 4,
 "nbformat_minor": 5
}
