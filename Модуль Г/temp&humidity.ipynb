{
 "cells": [
  {
   "cell_type": "markdown",
   "id": "61e2c017",
   "metadata": {},
   "source": [
    "# Обработка погоды для вывода в графики"
   ]
  },
  {
   "cell_type": "markdown",
   "id": "3add86e5",
   "metadata": {},
   "source": [
    "Импорт библиотек"
   ]
  },
  {
   "cell_type": "code",
   "execution_count": 1,
   "id": "da6efb41",
   "metadata": {},
   "outputs": [],
   "source": [
    "import os\n",
    "import pandas as pd\n",
    "import matplotlib.pyplot as plt\n",
    "from datetime import datetime"
   ]
  },
  {
   "cell_type": "markdown",
   "id": "498c6b63",
   "metadata": {},
   "source": [
    "Объявление путей"
   ]
  },
  {
   "cell_type": "code",
   "execution_count": 9,
   "id": "d6e9d833",
   "metadata": {},
   "outputs": [],
   "source": [
    "input_csv = '../Модуль А/weather.csv'\n",
    "output_temp_dir = 'Температура'\n",
    "output_humidity_dir = 'Влажность'"
   ]
  },
  {
   "cell_type": "markdown",
   "id": "92f87d20",
   "metadata": {},
   "source": [
    "Загружаем данные по погоде"
   ]
  },
  {
   "cell_type": "code",
   "execution_count": 10,
   "id": "3e045c88",
   "metadata": {},
   "outputs": [],
   "source": [
    "df = pd.read_csv(input_csv, parse_dates=['Дата'])"
   ]
  },
  {
   "cell_type": "markdown",
   "id": "b4184b98",
   "metadata": {},
   "source": [
    "Функция для рисования и сохранения"
   ]
  },
  {
   "cell_type": "code",
   "execution_count": 19,
   "id": "4c57b887",
   "metadata": {},
   "outputs": [],
   "source": [
    "def create_plots(data, column, output_dir, plot_type):\n",
    "    n_segments = 5\n",
    "    total_rows = len(data)\n",
    "    segment_size = total_rows // n_segments\n",
    "    \n",
    "    for i in range(n_segments):\n",
    "        start_idx = i * segment_size\n",
    "        end_idx = (i + 1) * segment_size if i < n_segments - 1 else total_rows\n",
    "        segment_data = data.iloc[start_idx:end_idx]\n",
    "        \n",
    "        plt.figure(figsize=(12, 6))\n",
    "        \n",
    "        # Линейный график для отрезка\n",
    "        plt.plot(segment_data['Дата'], segment_data[column], marker='o', markersize=3, linestyle='-')\n",
    "        \n",
    "        # Форматируем даты для заголовка\n",
    "        start_date = segment_data['Дата'].iloc[0]\n",
    "        end_date = segment_data['Дата'].iloc[-1]\n",
    "        \n",
    "        plt.title(f'{plot_type} с {start_date} по {end_date}')\n",
    "        plt.xlabel('Дата')\n",
    "        plt.ylabel(plot_type)\n",
    "        plt.grid(True)\n",
    "        plt.xticks(rotation=45)\n",
    "        \n",
    "        # Автоматически подбираем частоту отметок на оси X\n",
    "        if len(segment_data) > 10:\n",
    "            step = max(1, len(segment_data) // 10)\n",
    "            plt.xticks(segment_data['Дата'][::step])\n",
    "        \n",
    "        plt.tight_layout()\n",
    "        \n",
    "        # Сохраняем график\n",
    "        plt.savefig(os.path.join(output_dir, f'{plot_type.lower()}_segment_{i+1}.png'))\n",
    "        plt.close()\n",
    "    \n",
    "   "
   ]
  },
  {
   "cell_type": "markdown",
   "id": "892e627a",
   "metadata": {},
   "source": [
    "Создание графиков по температуре"
   ]
  },
  {
   "cell_type": "code",
   "execution_count": 20,
   "id": "d5b31ef5",
   "metadata": {},
   "outputs": [],
   "source": [
    "create_plots(df, \"Tavg\", output_temp_dir, 'Температура')"
   ]
  },
  {
   "cell_type": "markdown",
   "id": "95e28308",
   "metadata": {},
   "source": [
    "Создание графиков по \"Влажности\""
   ]
  },
  {
   "cell_type": "code",
   "execution_count": 21,
   "id": "93420711",
   "metadata": {},
   "outputs": [],
   "source": [
    "create_plots(df, \"Атмосферное давление гПа\", output_humidity_dir, 'Влажность')"
   ]
  }
 ],
 "metadata": {
  "kernelspec": {
   "display_name": "Python 3",
   "language": "python",
   "name": "python3"
  },
  "language_info": {
   "codemirror_mode": {
    "name": "ipython",
    "version": 3
   },
   "file_extension": ".py",
   "mimetype": "text/x-python",
   "name": "python",
   "nbconvert_exporter": "python",
   "pygments_lexer": "ipython3",
   "version": "3.12.1"
  }
 },
 "nbformat": 4,
 "nbformat_minor": 5
}
